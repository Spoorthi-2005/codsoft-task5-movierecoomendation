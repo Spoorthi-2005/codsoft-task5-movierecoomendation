{
  "nbformat": 4,
  "nbformat_minor": 0,
  "metadata": {
    "colab": {
      "provenance": [],
      "mount_file_id": "https://github.com/Spoorthi-2005/BharatIntern/blob/main/movierecommendations.ipynb",
      "authorship_tag": "ABX9TyNVBJl3c3+cPKIuKcTWW1iJ",
      "include_colab_link": true
    },
    "kernelspec": {
      "name": "python3",
      "display_name": "Python 3"
    },
    "language_info": {
      "name": "python"
    }
  },
  "cells": [
    {
      "cell_type": "markdown",
      "metadata": {
        "id": "view-in-github",
        "colab_type": "text"
      },
      "source": [
        "<a href=\"https://colab.research.google.com/github/Spoorthi-2005/codsoft-task5-movierecoomendation/blob/main/movierecommendations.ipynb\" target=\"_parent\"><img src=\"https://colab.research.google.com/assets/colab-badge.svg\" alt=\"Open In Colab\"/></a>"
      ]
    },
    {
      "cell_type": "code",
      "execution_count": 5,
      "metadata": {
        "colab": {
          "base_uri": "https://localhost:8080/"
        },
        "id": "doSvUJbRRAj1",
        "outputId": "8255a3c7-49cf-430d-e92d-6d4be8342342"
      },
      "outputs": [
        {
          "output_type": "stream",
          "name": "stdout",
          "text": [
            "Recommended Movies for '10ml Love':\n",
            "1. N.H 10 ((2015)), Rating: 7.20, Similarity Score: 0.24\n",
            "2. Sui Dhaaga ((2018)), Rating: 6.80, Similarity Score: 0.23\n",
            "3. Anaam (nan), Rating: nan, Similarity Score: 0.23\n",
            "4. Kaalakaandi ((2018)), Rating: 6.30, Similarity Score: 0.23\n",
            "5. Doordarshan ((2020)), Rating: 6.20, Similarity Score: 0.23\n",
            "6. What the Fish ((2013)), Rating: 5.00, Similarity Score: 0.23\n",
            "7. Manu the Great ((1989)), Rating: nan, Similarity Score: 0.22\n",
            "8. Halahal ((2020)), Rating: 7.10, Similarity Score: 0.22\n",
            "9. Suswagatam Khushamadeed (nan), Rating: nan, Similarity Score: 0.22\n",
            "10. Gulfam ((2020)), Rating: nan, Similarity Score: 0.21\n"
          ]
        }
      ],
      "source": [
        "import pandas as pd\n",
        "from sklearn.feature_extraction.text import TfidfVectorizer\n",
        "from sklearn.metrics.pairwise import linear_kernel\n",
        "\n",
        "# Load dataset with specified encoding\n",
        "movies_data = pd.read_csv('/content/drive/MyDrive/iris/IMDb Movies India.csv', encoding='latin-1')\n",
        "\n",
        "# Combine relevant attributes into a single column\n",
        "movies_data['features'] = movies_data['Name'] + ' ' + movies_data['Director'] + ' ' + movies_data['Actor 1'] + ' ' + movies_data['Actor 2'] + ' ' + movies_data['Actor 3']\n",
        "\n",
        "# Fill missing values with an empty string\n",
        "movies_data['features'] = movies_data['features'].fillna('')\n",
        "\n",
        "# Initialize TfidfVectorizer\n",
        "tfidf_vectorizer = TfidfVectorizer(stop_words='english')\n",
        "\n",
        "# Fit and transform the features\n",
        "tfidf_matrix = tfidf_vectorizer.fit_transform(movies_data['features'])\n",
        "\n",
        "# Compute the cosine similarity matrix\n",
        "cosine_sim = linear_kernel(tfidf_matrix, tfidf_matrix)\n",
        "\n",
        "# Function to recommend similar movies\n",
        "def recommend_movies(movie_title, n=5):\n",
        "    try:\n",
        "        # Get the index of the movie that matches the title\n",
        "        idx = movies_data[movies_data['Name'].str.lower() == movie_title.lower()].index[0]\n",
        "    except IndexError:\n",
        "        print(f\"Movie '{movie_title}' not found in the dataset.\")\n",
        "        return\n",
        "\n",
        "    # Get the pairwise similarity scores of all movies with that movie\n",
        "    sim_scores = list(enumerate(cosine_sim[idx]))\n",
        "\n",
        "    # Sort the movies based on the similarity scores\n",
        "    sim_scores = sorted(sim_scores, key=lambda x: x[1], reverse=True)\n",
        "\n",
        "    # Filter out the input movie\n",
        "    sim_scores = [(i, score) for i, score in sim_scores if movies_data.iloc[i]['Name'].lower() != movie_title.lower()]\n",
        "\n",
        "    # Get the scores of the n most similar movies\n",
        "    sim_scores = sim_scores[:n]\n",
        "\n",
        "    # Get the movie indices\n",
        "    movie_indices = [i[0] for i in sim_scores]\n",
        "\n",
        "    # Get the top n most similar movies\n",
        "    recommended_movies = movies_data[['Name', 'Year', 'Rating']].iloc[movie_indices]\n",
        "\n",
        "    # Print the recommended movies with cosine similarity scores\n",
        "    print(f\"Recommended Movies for '{movie_title}':\")\n",
        "    for i, (movie_index, score) in enumerate(zip(movie_indices, sim_scores), 1):\n",
        "        recommended_movie = recommended_movies.iloc[i-1]\n",
        "        print(f\"{i}. {recommended_movie['Name']} ({recommended_movie['Year']}), Rating: {recommended_movie['Rating']:.2f}, Similarity Score: {score[1]:.2f}\")\n",
        "\n",
        "# Example usage\n",
        "movie_title = '10ml Love'\n",
        "recommend_movies(movie_title, n=10)\n",
        "\n",
        "\n"
      ]
    },
    {
      "cell_type": "code",
      "source": [],
      "metadata": {
        "id": "eWkSnNIVbegz"
      },
      "execution_count": 5,
      "outputs": []
    }
  ]
}